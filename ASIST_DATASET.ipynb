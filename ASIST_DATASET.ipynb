{
 "cells": [
  {
   "cell_type": "code",
   "execution_count": 2,
   "metadata": {},
   "outputs": [],
   "source": [
    "from asist.utility import binavg, running_mean, power_spectrum\n",
    "from datetime import datetime, timedelta\n",
    "import glob\n",
    "import matplotlib.pyplot as plt\n",
    "import numpy as np\n",
    "from scipy.signal import detrend\n",
    "from sustain_drag_2020.wavewire import read_ww_from_toa5\n",
    "from sustain_drag_2020.fetch import fetch\n",
    "import warnings\n",
    "import os\n",
    "import pandas as pd\n",
    "from sustain_drag_2020.windspeed import read_ws_from_toa5\n",
    "#from sustain_drag_2020.windspeed import read_ws_from_toa5_all\n",
    "import netCDF4 as nc\n",
    "warnings.filterwarnings('ignore')\n"
   ]
  },
  {
   "cell_type": "code",
   "execution_count": 10,
   "metadata": {},
   "outputs": [],
   "source": [
    "#reading data from netCDF4 file\n",
    "os.chdir('/Users/peisen/Downloads/ASIST Data')\n",
    "  #UDM File for elevation\n",
    "file1='asist-windonly-fresh_udm.nc'\n",
    "udm_fresh= netCDF4.Dataset(file1)\n",
    "elev=(udm_fresh['elevation'])\n",
    "time=(udm_fresh['Time'])\n",
    "fetch=(udm_fresh['Fetch'])\n",
    "fan=(udm_fresh['fan'])\n",
    "\n",
    "  #Hotfilm file for windspeed\n",
    "file2='asist-windonly-fresh_hotfilm.nc'\n",
    "hotfilm_fresh= netCDF4.Dataset(file2)\n",
    "u=(hotfilm_fresh['u'])\n",
    "w=(hotfilm_fresh['w'])\n",
    "\n",
    "  "
   ]
  },
  {
   "cell_type": "code",
   "execution_count": null,
   "metadata": {},
   "outputs": [],
   "source": []
  }
 ],
 "metadata": {
  "kernelspec": {
   "display_name": "Python 3",
   "language": "python",
   "name": "python3"
  },
  "language_info": {
   "codemirror_mode": {
    "name": "ipython",
    "version": 3
   },
   "file_extension": ".py",
   "mimetype": "text/x-python",
   "name": "python",
   "nbconvert_exporter": "python",
   "pygments_lexer": "ipython3",
   "version": "3.7.6"
  }
 },
 "nbformat": 4,
 "nbformat_minor": 4
}
